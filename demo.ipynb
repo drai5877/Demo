{
  "nbformat": 4,
  "nbformat_minor": 0,
  "metadata": {
    "colab": {
      "provenance": []
    },
    "kernelspec": {
      "name": "python3",
      "display_name": "Python 3"
    },
    "language_info": {
      "name": "python"
    }
  },
  "cells": [
    {
      "cell_type": "code",
      "execution_count": null,
      "metadata": {
        "id": "XdMQp0h5jnTv"
      },
      "outputs": [],
      "source": []
    },
    {
      "cell_type": "markdown",
      "source": [
        "#Demo\n"
      ],
      "metadata": {
        "id": "I75KUbz6jyr3"
      }
    },
    {
      "cell_type": "markdown",
      "source": [
        "1. What is my Name\n",
        "   - Myself **Deepak Rai**\n",
        "2. Where you from\n",
        "   - I m belong to ***Azamgarh ***\n",
        "3. whts your background\n",
        "   - I am from NonTechnical Background\n",
        "\n",
        "\n"
      ],
      "metadata": {
        "id": "M6HuoPV3kQIu"
      }
    },
    {
      "cell_type": "markdown",
      "source": [
        "...\n",
        "#my self deepak\n",
        "\n",
        "```\n"
      ],
      "metadata": {
        "id": "DR9N8iPFmY4T"
      }
    },
    {
      "cell_type": "code",
      "source": [],
      "metadata": {
        "id": "9Tzt3BUYmojS"
      },
      "execution_count": null,
      "outputs": []
    }
  ]
}